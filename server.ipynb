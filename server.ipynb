{
 "cells": [
  {
   "cell_type": "code",
   "execution_count": null,
   "metadata": {},
   "outputs": [],
   "source": [
    "import socket, pickle, struct, cv2"
   ]
  },
  {
   "cell_type": "code",
   "execution_count": null,
   "metadata": {},
   "outputs": [],
   "source": [
    "ss = socket.socket(socket.AF_INET, socket.SOCK_STREAM)\n",
    "ss.setsockopt(socket.SOL_SOCKET, socket.SO_REUSEADDR, 1)\n",
    "ss.bind((\"\", 9999))\n",
    "print(\"Socket Created\")\n",
    "ss.listen()\n"
   ]
  },
  {
   "cell_type": "code",
   "execution_count": null,
   "metadata": {},
   "outputs": [],
   "source": [
    "while True:\n",
    "    a, addr = ss.accept()\n",
    "    print(\"Connection established with --> \", addr)\n",
    "    if a:\n",
    "        cap = cv2.VideoCapture(0)\n",
    "        while(cap.isOpened()):\n",
    "            ret, img = cap.read()\n",
    "            data = pickle.dumps(img)\n",
    "            msg = struct.pack(\"N\", len(data))+data\n",
    "            a.sendall(msg)\n",
    "            cv2.imshow(\"Server\", img)\n",
    "            if cv2.waitKey(10)==13:\n",
    "                cv2.destroyAllWindows()\n",
    "                a.close()\n",
    "                cap.release()\n",
    "                break"
   ]
  },
  {
   "cell_type": "code",
   "execution_count": null,
   "metadata": {},
   "outputs": [],
   "source": []
  }
 ],
 "metadata": {
  "kernelspec": {
   "display_name": "Python 3",
   "language": "python",
   "name": "python3"
  },
  "language_info": {
   "codemirror_mode": {
    "name": "ipython",
    "version": 3
   },
   "file_extension": ".py",
   "mimetype": "text/x-python",
   "name": "python",
   "nbconvert_exporter": "python",
   "pygments_lexer": "ipython3",
   "version": "3.8.8"
  }
 },
 "nbformat": 4,
 "nbformat_minor": 4
}
